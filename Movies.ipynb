{
 "cells": [
  {
   "cell_type": "code",
   "execution_count": 119,
   "id": "197a3690-ab3e-49d9-86cd-e680605db15e",
   "metadata": {},
   "outputs": [
    {
     "name": "stdout",
     "output_type": "stream",
     "text": [
      "Requirement already satisfied: faker in /opt/anaconda3/lib/python3.13/site-packages (37.11.0)\n",
      "Requirement already satisfied: tzdata in /opt/anaconda3/lib/python3.13/site-packages (from faker) (2025.2)\n"
     ]
    }
   ],
   "source": [
    "!pip install faker"
   ]
  },
  {
   "cell_type": "code",
   "execution_count": 120,
   "id": "0740331e-01ae-42a2-81d6-d9573b70253a",
   "metadata": {},
   "outputs": [],
   "source": [
    "from faker import Faker\n",
    "import pandas as pd\n",
    "import random"
   ]
  },
  {
   "cell_type": "code",
   "execution_count": 121,
   "id": "60310556-5455-4165-bb45-9ee01a1a954e",
   "metadata": {},
   "outputs": [],
   "source": [
    "fake = Faker()"
   ]
  },
  {
   "cell_type": "code",
   "execution_count": 122,
   "id": "aee90bc9-4f00-420e-a22c-1a02f660563e",
   "metadata": {},
   "outputs": [],
   "source": [
    "movie_id = list(range(1, 101))\n",
    "movie_name = [fake.catch_phrase() for _ in range(100)]\n",
    "release_year = [random.randint(2000, 2025) for _ in range(100)]\n",
    "genre = [random.choice([\"Drama\", \"Comedy\", \"Action\", \"Romance\", \"Thriller\", \"Musical\"]) for _ in range(100)]\n",
    "director = [fake.name() for _ in range(100)]\n",
    "lead = [fake.name() for _ in range(100)]\n",
    "imdb_rating = [round(random.uniform(1, 10), 1) for _ in range(100)]"
   ]
  },
  {
   "cell_type": "code",
   "execution_count": 123,
   "id": "3d4164e8-1e1d-4ea8-8caa-0a77d629eeb8",
   "metadata": {},
   "outputs": [],
   "source": [
    "df = pd.DataFrame(\n",
    "    zip(movie_id, movie_name, release_year, genre, director, lead, imdb_rating),\n",
    "    columns=['ID', 'Title', 'Release Year', 'Genre', 'Director', 'Lead', 'Rating']\n",
    ")"
   ]
  },
  {
   "cell_type": "code",
   "execution_count": 124,
   "id": "b2ee6b87-5ff9-45cf-a9e0-af0837c7997d",
   "metadata": {},
   "outputs": [],
   "source": [
    "df.set_index(\"ID\", inplace=True)"
   ]
  },
  {
   "cell_type": "code",
   "execution_count": 127,
   "id": "72eaa7e8-677b-4e8d-8e4b-1989733e5093",
   "metadata": {},
   "outputs": [],
   "source": [
    "df.to_csv(\"fictional_movies.csv\", index=False)"
   ]
  },
  {
   "cell_type": "code",
   "execution_count": 130,
   "id": "b3a57d31-59e0-4b28-864f-a499e4ea5857",
   "metadata": {},
   "outputs": [
    {
     "name": "stdout",
     "output_type": "stream",
     "text": [
      "                                                  Title  Release Year     Genre               Director                  Lead  Rating\n",
      "ID                                                                                                                                  \n",
      "1                      Operative modular info-mediaries          2025  Thriller           David Rogers           Nancy Rivas     5.2\n",
      "2                      Balanced needs-based application          2022    Comedy           Allen Mcneil        Crystal Daniel     5.5\n",
      "3                        Versatile actuating task-force          2020   Romance           Ronald Gomez             Mia Smith     4.2\n",
      "4                      Customer-focused optimal synergy          2000   Romance    Christopher Burgess        Bryan Mitchell     8.7\n",
      "5              Vision-oriented analyzing knowledge user          2008    Comedy      Anthony Fernandez        Erica Peterson     2.9\n",
      "6                         Open-source tertiary matrices          2010    Comedy          Jacob Pearson       Gabrielle Price     3.1\n",
      "7                    Profit-focused logistical paradigm          2015    Action            Julia Scott     William Christian     4.9\n",
      "8                   Ameliorated human-resource firmware          2023     Drama     Jonathan Rodriguez         Daniel Maddox     3.1\n",
      "9                Multi-layered 4thgeneration task-force          2019   Musical       Nathaniel Garcia            Rita Henry     7.3\n",
      "10                 Horizontal fresh-thinking projection          2012     Drama           George Moore          Terri Bright     1.8\n",
      "11                          Focused high-level attitude          2019  Thriller         David Reynolds        James Cardenas     4.4\n",
      "12                  Progressive homogeneous application          2014    Action          Erica Randall      Mr. Adrian White     1.2\n",
      "13                            Ergonomic mobile function          2022     Drama           Marcus White        Stephanie Bell     6.6\n",
      "14                     Reduced human-resource workforce          2015   Musical          Robert Gibson           Jade Howard     1.2\n",
      "15             Fully-configurable reciprocal projection          2020  Thriller     Courtney Rodriguez        Andre Williams     1.9\n",
      "16                    Networked zero tolerance function          2021  Thriller         Mitchell Meyer        Amy Everett MD     9.2\n",
      "17      Distributed background Graphical User Interface          2002     Drama         Reginald Ellis          Sheila Dixon     3.1\n",
      "18                        Seamless encompassing synergy          2007   Romance          Barbara Lewis        Steven Randall     4.0\n",
      "19                         Pre-emptive cohesive product          2025   Musical        Beverly Acevedo           Carolyn Lam     9.5\n",
      "20                     Robust mission-critical capacity          2024    Comedy          Jessica Mcgee          David Martin     5.5\n",
      "21                          Profound executive approach          2009    Action            Sylvia Hall        Jessica Stokes     7.5\n",
      "22                  Compatible background orchestration          2013   Romance           Joann Hughes       Michael Sanchez     5.8\n",
      "23                        Extended uniform architecture          2022    Action            Terry White          Megan Morris     2.2\n",
      "24                    Cross-platform modular definition          2022    Comedy        Nicholas Miller            Tyler Bell     3.5\n",
      "25                         Monitored actuating solution          2007  Thriller      Victoria Morrison           Andrew Hill     8.7\n",
      "26                         Versatile executive function          2016   Romance        Patrick Andrews           Sarah Perry     6.4\n",
      "27                         Synergized 24hour neural-net          2000   Romance      Russell Gutierrez        Steven Woodard     4.9\n",
      "28               Versatile solution-oriented definition          2013    Comedy        Andrea Bradshaw          Tammy Meyers     3.7\n",
      "29                   Object-based stable info-mediaries          2006    Action           Diana Taylor       Richard Sanders     4.6\n",
      "30                       Mandatory eco-centric function          2014   Romance         Rebecca Holmes            Lori Allen     4.2\n",
      "31                 Sharable next generation utilization          2014     Drama             Jacob Shea          Laura Butler     9.4\n",
      "32              Future-proofed explicit functionalities          2019  Thriller         Toni Mcconnell     Kristina Reynolds     9.3\n",
      "33               Integrated encompassing superstructure          2002     Drama        Brandon Stewart        Theresa Garcia     5.3\n",
      "34              Ergonomic 5thgeneration instruction set          2012   Musical       Samantha Hammond         Kenneth Lewis     8.3\n",
      "35                     Profit-focused uniform moderator          2009    Action          Jessica Craig        Carl Patterson     6.0\n",
      "36          Vision-oriented maximized Graphic Interface          2012    Comedy        Elizabeth Lloyd        Taylor Carroll     9.9\n",
      "37               Optional attitude-oriented parallelism          2022   Romance         Virginia Bates         Wendy Johnson     3.1\n",
      "38                       Pre-emptive actuating capacity          2000   Musical        Dr. Bryce Gomez        Sergio Manning     2.8\n",
      "39                   User-friendly multi-state hardware          2019   Romance   Jacqueline Henderson           John Melton     5.4\n",
      "40            User-friendly zero administration success          2015   Romance       Kathryn Williams          Janice Mckee     5.9\n",
      "41                        Seamless zero-defect leverage          2004    Comedy          Brian Russell        Jonathan Davis     6.2\n",
      "42                       Persistent reciprocal approach          2009   Romance         Ronnie Bridges             Ana Lopez     8.3\n",
      "43               Automated zero administration firmware          2003    Comedy           Denise Brown         Henry Douglas     3.3\n",
      "44                                  Extended 24/7 frame          2021     Drama        Victoria Walker        Frances Harris     6.6\n",
      "45             Focused clear-thinking open architecture          2025    Action           Keith Nelson       Kristen Meadows     3.8\n",
      "46                     Universal demand-driven solution          2010   Musical         Haley Williams            Kerri Best     4.1\n",
      "47                            Expanded systemic product          2001     Drama        Andrea Ferguson         Dale Erickson     3.9\n",
      "48                         Stand-alone cohesive success          2025    Action        Jeremy Buchanan        Garrett Booker     3.6\n",
      "49                  De-engineered intermediate extranet          2004   Musical  Patricia Martinez PhD          Angela Cross     4.9\n",
      "50    Fully-configurable upward-trending knowledge user          2013    Comedy         Catherine Ford        Marcus Barnett     2.3\n",
      "51                Business-focused 5thgeneration policy          2003     Drama         Victoria Allen     Kimberly Andersen     3.5\n",
      "52                        Pre-emptive systemic solution          2011    Comedy         Katherine Dunn           Julie Chang     9.1\n",
      "53                    Mandatory holistic implementation          2015   Romance          Robert Flores           Emily Logan     4.9\n",
      "54      Monitored 5thgeneration artificial intelligence          2022    Action        Miss Anna Hicks      Anthony Sandoval     4.5\n",
      "55            User-friendly motivating customer loyalty          2017   Musical          Kayla Schmidt        Veronica Scott     4.0\n",
      "56                              Inverse hybrid matrices          2014   Romance             Erica Roth          Aaron Acosta     3.6\n",
      "57                               Extended stable policy          2017  Thriller           Kevin Rhodes        Teresa Carlson     1.5\n",
      "58                              Front-line 24/7 project          2003    Action          Robert Holmes         Angela Barnes     6.0\n",
      "59                        Profit-focused 24hour product          2010  Thriller            Julie Young           Brent Clark     8.3\n",
      "60             Profit-focused fault-tolerant projection          2011   Musical           Angela Davis       Felicia Roberts     6.5\n",
      "61                       Extended grid-enabled leverage          2015  Thriller            Jeremy Ball           Terri Moody     2.2\n",
      "62                     Centralized tertiary flexibility          2023     Drama      Valerie Fernandez       Mr. Malik Jones     9.9\n",
      "63              Open-source asynchronous data-warehouse          2016   Romance        Jason Davenport         Derek Maxwell     6.9\n",
      "64                       Synchronized maximized synergy          2013  Thriller         Steven Houston         Casey Chapman     5.0\n",
      "65                       Upgradable bifurcated capacity          2007     Drama           Karen Parker          Derek Garcia     6.5\n",
      "66                        Down-sized systemic algorithm          2017     Drama          Matthew Welch          Victor Perez     4.8\n",
      "67                         Innovative empowering matrix          2024    Action         David Mcdaniel           Sydney Koch     5.7\n",
      "68                      Multi-lateral discrete paradigm          2020  Thriller         Adam Rodriguez      Melissa Phillips     9.7\n",
      "69              Universal zero tolerance data-warehouse          2019  Thriller           Isaac Murphy        Tiffany Taylor     5.0\n",
      "70                        Innovative encompassing array          2020    Comedy           Brian Garcia        Melissa Barton     3.1\n",
      "71                         Seamless multimedia firmware          2024    Comedy            Brian David        Stephen Larsen     4.4\n",
      "72                         Devolved eco-centric concept          2005    Comedy      Janice Montgomery         Tonya Jackson     6.5\n",
      "73                             Organic discrete support          2015  Thriller         Jamie Calderon             Lisa Hale     2.6\n",
      "74                Function-based content-based matrices          2018   Romance            Justin Moon        Marissa Torres     7.4\n",
      "75                       Triple-buffered 24/7 framework          2020   Musical         Melanie Porter         Vicki Barrett     9.4\n",
      "76               Future-proofed bi-directional paradigm          2020   Romance          Erik Mcknight         Laurie Wilson     6.5\n",
      "77       Cross-platform 3rdgeneration open architecture          2004  Thriller            John Jensen  Catherine Franco PhD     5.8\n",
      "78              Open-source tangible Local Area Network          2000     Drama         Charles Henson        Hannah Bridges     3.1\n",
      "79   Enterprise-wide real-time Graphical User Interface          2020    Action            Linda Brown         Melissa Perez     7.9\n",
      "80                         Total 6thgeneration function          2017    Action              Lisa Best       Jennifer Turner     4.9\n",
      "81                      Pre-emptive real-time benchmark          2022    Comedy         Joshua Wallace           Ian Johnson     6.2\n",
      "82                           Innovative global function          2006   Romance             Sarah Wood        Johnny Harrell     9.0\n",
      "83                     Managed fault-tolerant migration          2020   Romance           Pamela Davis          Nicholas Lee     4.4\n",
      "84                           Managed real-time database          2017    Comedy        James Cervantes        Tony Hernandez     9.3\n",
      "85                Down-sized zero administration policy          2004    Action        Brandon Hawkins           Kathy Davis     5.7\n",
      "86                        Quality-focused executive hub          2011   Musical            Claudia Day        Michael Butler     9.7\n",
      "87                    Ameliorated demand-driven toolset          2019   Romance          Jesse Jackson         Michael Smith     2.0\n",
      "88              Multi-channeled tertiary conglomeration          2000  Thriller          Brandon Evans       Maurice Andrews     9.9\n",
      "89                      Distributed leadingedge website          2003   Musical        Brittany Fisher         Morgan Miller     3.4\n",
      "90                       Pre-emptive intangible concept          2014   Romance          Ronald Barton            Anna Smith     5.2\n",
      "91                     Reactive multi-tasking emulation          2002    Comedy   Christopher Reynolds         Taylor Barker     1.5\n",
      "92                            Phased neutral projection          2022    Comedy         Jeremy Watkins           James Casey     3.7\n",
      "93                          Switchable national success          2024  Thriller              Mary Park          Cindy Miller     6.6\n",
      "94               Synergistic fresh-thinking open system          2015    Comedy     Christopher Garcia     Catherine Johnson     9.8\n",
      "95                 Enterprise-wide grid-enabled website          2013  Thriller          Mark Carrillo      Angela Rodriguez     6.3\n",
      "96                      Universal interactive workforce          2003  Thriller          Charles Evans        Regina Manning     3.0\n",
      "97                       Integrated needs-based product          2018  Thriller       Rachel Hernandez         John Williams     5.5\n",
      "98                            Front-line local extranet          2017   Romance           Stacey Pratt        Alex Contreras     1.4\n",
      "99               Programmable eco-centric knowledgebase          2022   Musical         Fernando Baker          Edward Black     6.2\n",
      "100           Stand-alone 5thgeneration functionalities          2012   Romance           Alvin Walker          David Walker     6.9\n"
     ]
    }
   ],
   "source": [
    "print(df.to_string())"
   ]
  }
 ],
 "metadata": {
  "kernelspec": {
   "display_name": "Python [conda env:base] *",
   "language": "python",
   "name": "conda-base-py"
  },
  "language_info": {
   "codemirror_mode": {
    "name": "ipython",
    "version": 3
   },
   "file_extension": ".py",
   "mimetype": "text/x-python",
   "name": "python",
   "nbconvert_exporter": "python",
   "pygments_lexer": "ipython3",
   "version": "3.13.5"
  }
 },
 "nbformat": 4,
 "nbformat_minor": 5
}
